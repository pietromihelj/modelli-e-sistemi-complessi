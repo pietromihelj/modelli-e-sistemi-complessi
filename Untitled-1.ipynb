{
 "cells": [
  {
   "cell_type": "code",
   "execution_count": 4,
   "metadata": {},
   "outputs": [
    {
     "name": "stdout",
     "output_type": "stream",
     "text": [
      "[0.11111111 1.22222222 2.33333333 3.44444444 4.55555556]\n",
      "[ 5.          6.22222222 18.44444444 30.66666667 42.88888889 55.11111111\n",
      " 60.         60.         60.         60.        ]\n"
     ]
    }
   ],
   "source": [
    "import numpy as np\n",
    "t = np.linspace(0,10,10)\n",
    "ramp_start = 1\n",
    "ramp_duration = 5\n",
    "baseline = 5\n",
    "final_amplitude = 60\n",
    "I = np.ones_like(t) * 5\n",
    "ramp_mask = (t >= ramp_start) & (t < ramp_start + ramp_duration)\n",
    "ramp_t = t[ramp_mask] - ramp_start\n",
    "print(ramp_t)\n",
    "I[ramp_mask] = baseline + (final_amplitude - baseline) * (ramp_t / ramp_duration)\n",
    "I[t >= ramp_start + ramp_duration] = final_amplitude\n",
    "print(I)"
   ]
  },
  {
   "cell_type": "code",
   "execution_count": 5,
   "metadata": {},
   "outputs": [
    {
     "name": "stdout",
     "output_type": "stream",
     "text": [
      "[ 5. 65. 65. 65. 65. 65.  5.  5.  5.  5.]\n"
     ]
    }
   ],
   "source": [
    "t = np.linspace(0,10,10)\n",
    "step_time = 1\n",
    "I = np.ones_like(t) * 5\n",
    "step_duration = 5\n",
    "amplitude = 60\n",
    "step_mask = (t >= step_time) & (t < step_time + step_duration)\n",
    "I[step_mask] = baseline + amplitude\n",
    "print(I)"
   ]
  }
 ],
 "metadata": {
  "kernelspec": {
   "display_name": "Python 3",
   "language": "python",
   "name": "python3"
  },
  "language_info": {
   "codemirror_mode": {
    "name": "ipython",
    "version": 3
   },
   "file_extension": ".py",
   "mimetype": "text/x-python",
   "name": "python",
   "nbconvert_exporter": "python",
   "pygments_lexer": "ipython3",
   "version": "3.11.9"
  }
 },
 "nbformat": 4,
 "nbformat_minor": 2
}
